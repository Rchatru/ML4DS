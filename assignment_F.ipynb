version https://git-lfs.github.com/spec/v1
oid sha256:a24fd10980c8af25e85d1e0a42ab34c16c6b84f63ce6df54d6894aa5a5cfb371
size 81600
